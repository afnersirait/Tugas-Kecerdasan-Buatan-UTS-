{
  "nbformat": 4,
  "nbformat_minor": 0,
  "metadata": {
    "colab": {
      "name": "Afner Sirait-KMeans.ipynb",
      "provenance": []
    },
    "kernelspec": {
      "name": "python3",
      "display_name": "Python 3"
    },
    "language_info": {
      "name": "python"
    }
  },
  "cells": [
    {
      "cell_type": "markdown",
      "metadata": {
        "id": "X-uj7DlS-FCE"
      },
      "source": [
        "#Import Library & Dataset"
      ]
    },
    {
      "cell_type": "markdown",
      "metadata": {
        "id": "U3RtXCG0_ADA"
      },
      "source": [
        "##Import Library"
      ]
    },
    {
      "cell_type": "code",
      "metadata": {
        "id": "EGIArVPW-MO7"
      },
      "source": [
        "import numpy as np\n",
        "from numpy.linalg import norm\n",
        "import matplotlib.pyplot as plt\n",
        "from matplotlib.image import imread\n",
        "import pandas as pd\n",
        "import seaborn as sns\n",
        "from sklearn.datasets.samples_generator import (make_blobs,\n",
        "                                                make_circles,\n",
        "                                                make_moons)\n",
        "from sklearn.preprocessing import StandardScaler"
      ],
      "execution_count": 45,
      "outputs": []
    },
    {
      "cell_type": "markdown",
      "metadata": {
        "id": "-57-ZvYe_DWX"
      },
      "source": [
        "##Import Dataset dan Analisa awal"
      ]
    },
    {
      "cell_type": "code",
      "metadata": {
        "colab": {
          "base_uri": "https://localhost:8080/",
          "height": 204
        },
        "id": "L1ET5UVI_Frc",
        "outputId": "9534665c-622c-4df7-d9a3-b21ccfde0452"
      },
      "source": [
        "#Import dataset\n",
        "df = pd.read_csv('https://raw.githubusercontent.com/gchoi/Dataset/master/OldFaithful.csv')\n",
        "df.head()"
      ],
      "execution_count": 46,
      "outputs": [
        {
          "output_type": "execute_result",
          "data": {
            "text/html": [
              "<div>\n",
              "<style scoped>\n",
              "    .dataframe tbody tr th:only-of-type {\n",
              "        vertical-align: middle;\n",
              "    }\n",
              "\n",
              "    .dataframe tbody tr th {\n",
              "        vertical-align: top;\n",
              "    }\n",
              "\n",
              "    .dataframe thead th {\n",
              "        text-align: right;\n",
              "    }\n",
              "</style>\n",
              "<table border=\"1\" class=\"dataframe\">\n",
              "  <thead>\n",
              "    <tr style=\"text-align: right;\">\n",
              "      <th></th>\n",
              "      <th>TimeEruption</th>\n",
              "      <th>TimeWaiting</th>\n",
              "    </tr>\n",
              "  </thead>\n",
              "  <tbody>\n",
              "    <tr>\n",
              "      <th>0</th>\n",
              "      <td>3.600</td>\n",
              "      <td>79</td>\n",
              "    </tr>\n",
              "    <tr>\n",
              "      <th>1</th>\n",
              "      <td>1.800</td>\n",
              "      <td>54</td>\n",
              "    </tr>\n",
              "    <tr>\n",
              "      <th>2</th>\n",
              "      <td>3.333</td>\n",
              "      <td>74</td>\n",
              "    </tr>\n",
              "    <tr>\n",
              "      <th>3</th>\n",
              "      <td>2.283</td>\n",
              "      <td>62</td>\n",
              "    </tr>\n",
              "    <tr>\n",
              "      <th>4</th>\n",
              "      <td>4.533</td>\n",
              "      <td>85</td>\n",
              "    </tr>\n",
              "  </tbody>\n",
              "</table>\n",
              "</div>"
            ],
            "text/plain": [
              "   TimeEruption  TimeWaiting\n",
              "0         3.600           79\n",
              "1         1.800           54\n",
              "2         3.333           74\n",
              "3         2.283           62\n",
              "4         4.533           85"
            ]
          },
          "metadata": {},
          "execution_count": 46
        }
      ]
    },
    {
      "cell_type": "code",
      "metadata": {
        "colab": {
          "base_uri": "https://localhost:8080/"
        },
        "id": "DTlr31djC2lw",
        "outputId": "8b1911d0-275a-41ec-9d8f-cfea468c5137"
      },
      "source": [
        "df.info()"
      ],
      "execution_count": 47,
      "outputs": [
        {
          "output_type": "stream",
          "name": "stdout",
          "text": [
            "<class 'pandas.core.frame.DataFrame'>\n",
            "RangeIndex: 272 entries, 0 to 271\n",
            "Data columns (total 2 columns):\n",
            " #   Column        Non-Null Count  Dtype  \n",
            "---  ------        --------------  -----  \n",
            " 0   TimeEruption  272 non-null    float64\n",
            " 1   TimeWaiting   272 non-null    int64  \n",
            "dtypes: float64(1), int64(1)\n",
            "memory usage: 4.4 KB\n"
          ]
        }
      ]
    },
    {
      "cell_type": "code",
      "metadata": {
        "colab": {
          "base_uri": "https://localhost:8080/",
          "height": 404
        },
        "id": "YbqA0o3-DnrR",
        "outputId": "37be1a19-586f-49aa-ef97-5886e1db0b4e"
      },
      "source": [
        "#Plot Data\n",
        "plt.figure(figsize=(6, 6))\n",
        "plt.scatter(df.iloc[:, 0], df.iloc[:, 1])\n",
        "plt.xlabel('Durasi Erupsi dalam Menit')\n",
        "plt.ylabel('Selang waktu ke Erupsi Selanjutnya')\n",
        "plt.title('Visualisasi Data');"
      ],
      "execution_count": 48,
      "outputs": [
        {
          "output_type": "display_data",
          "data": {
            "image/png": "[encoded data removed]",
            "text/plain": [
              "<Figure size 432x432 with 1 Axes>"
            ]
          },
          "metadata": {
            "needs_background": "light"
          }
        }
      ]
    },
    {
      "cell_type": "code",
      "metadata": {
        "colab": {
          "base_uri": "https://localhost:8080/",
          "height": 238
        },
        "id": "NtcWfOdL_SRK",
        "outputId": "aa60d9ae-8f93-46dd-c6a9-a8ba87fb0190"
      },
      "source": [
        "#Menghapus data yang memiliki duplikat\n",
        "print(f'Size sebelum menghapus duplicate: ', df.shape)\n",
        "df = df.drop_duplicates().reset_index(drop=True)\n",
        "print(f'Size sesudah menghapus duplicate: ', df.shape)\n",
        "df.head()"
      ],
      "execution_count": 22,
      "outputs": [
        {
          "output_type": "stream",
          "name": "stdout",
          "text": [
            "Size sebelum menghapus duplicate:  (272, 2)\n",
            "Size sesudah menghapus duplicate:  (256, 2)\n"
          ]
        },
        {
          "output_type": "execute_result",
          "data": {
            "text/html": [
              "<div>\n",
              "<style scoped>\n",
              "    .dataframe tbody tr th:only-of-type {\n",
              "        vertical-align: middle;\n",
              "    }\n",
              "\n",
              "    .dataframe tbody tr th {\n",
              "        vertical-align: top;\n",
              "    }\n",
              "\n",
              "    .dataframe thead th {\n",
              "        text-align: right;\n",
              "    }\n",
              "</style>\n",
              "<table border=\"1\" class=\"dataframe\">\n",
              "  <thead>\n",
              "    <tr style=\"text-align: right;\">\n",
              "      <th></th>\n",
              "      <th>TimeEruption</th>\n",
              "      <th>TimeWaiting</th>\n",
              "    </tr>\n",
              "  </thead>\n",
              "  <tbody>\n",
              "    <tr>\n",
              "      <th>0</th>\n",
              "      <td>3.600</td>\n",
              "      <td>79</td>\n",
              "    </tr>\n",
              "    <tr>\n",
              "      <th>1</th>\n",
              "      <td>1.800</td>\n",
              "      <td>54</td>\n",
              "    </tr>\n",
              "    <tr>\n",
              "      <th>2</th>\n",
              "      <td>3.333</td>\n",
              "      <td>74</td>\n",
              "    </tr>\n",
              "    <tr>\n",
              "      <th>3</th>\n",
              "      <td>2.283</td>\n",
              "      <td>62</td>\n",
              "    </tr>\n",
              "    <tr>\n",
              "      <th>4</th>\n",
              "      <td>4.533</td>\n",
              "      <td>85</td>\n",
              "    </tr>\n",
              "  </tbody>\n",
              "</table>\n",
              "</div>"
            ],
            "text/plain": [
              "   TimeEruption  TimeWaiting\n",
              "0         3.600           79\n",
              "1         1.800           54\n",
              "2         3.333           74\n",
              "3         2.283           62\n",
              "4         4.533           85"
            ]
          },
          "metadata": {},
          "execution_count": 22
        }
      ]
    },
    {
      "cell_type": "code",
      "metadata": {
        "colab": {
          "base_uri": "https://localhost:8080/",
          "height": 404
        },
        "id": "WUAmOXAdD5s5",
        "outputId": "5646f079-f381-4ef8-f682-ad22fcefbf6c"
      },
      "source": [
        "#Plot Data\n",
        "plt.figure(figsize=(6, 6))\n",
        "plt.scatter(df.iloc[:, 0], df.iloc[:, 1])\n",
        "plt.xlabel('Durasi Erupsi dalam Menit')\n",
        "plt.ylabel('Selang waktu ke Erupsi Selanjutnya')\n",
        "plt.title('Visualisasi Data');"
      ],
      "execution_count": 50,
      "outputs": [
        {
          "output_type": "display_data",
          "data": {
            "image/png": "[encoded data removed]",
            "text/plain": [
              "<Figure size 432x432 with 1 Axes>"
            ]
          },
          "metadata": {
            "needs_background": "light"
          }
        }
      ]
    },
    {
      "cell_type": "markdown",
      "metadata": {
        "id": "ypuKzs7NAdRR"
      },
      "source": [
        "#Algoritma K-Means"
      ]
    },
    {
      "cell_type": "code",
      "metadata": {
        "id": "I_MLmmvlAKx3"
      },
      "source": [
        "class kmeans:\n",
        "  #Inisialisasi kelas\n",
        "  def __init__(self, jumlah_kluster, iterasi_maks=100, random_state=123):\n",
        "    self.jumlah_kluster = jumlah_kluster\n",
        "    self.iterasi_maks = iterasi_maks\n",
        "    self.random_state = random_state\n",
        "\n",
        "  #Inisialisasi Centroid\n",
        "  def initialisasi_centroid(self, X):\n",
        "    np.random.RandomState(self.random_state)\n",
        "    random_idx = np.random.permutation(X.shape[0])\n",
        "    centroid = X[random_idx[:self.jumlah_kluster]]\n",
        "    return centroid\n",
        "\n",
        "  #Menghitung koordinat centroid\n",
        "  def hitung_centroid(self, X, label):\n",
        "    centroid = np.zeros((self.jumlah_kluster, X.shape[1]))\n",
        "    for k in range(self.jumlah_kluster):\n",
        "      centroid[k, :] = np.mean(X[label == k, :], axis=0)\n",
        "    return centroid\n",
        "\n",
        "  #Menghitung jarak titik data terhadap centroid\n",
        "  def hitung_jarak(self, X, centroid):\n",
        "    jarak = np.zeros((X.shape[0], self.jumlah_kluster))\n",
        "    for k in range(self.jumlah_kluster):\n",
        "      normalisasi_baris = norm(X - centroid[k, :], axis=1)\n",
        "      jarak[:, k] = np.square(normalisasi_baris)\n",
        "    return jarak\n",
        "\n",
        "  #Menentukan cluster yang terdekat\n",
        "  def temukan_cluster_terdekat(self, jarak):\n",
        "    return np.argmin(jarak, axis=1)\n",
        "\n",
        "  #Menghitung SSE (Sum of Squared Distance)\n",
        "  def hitung_sse(self, X, label, centroid):\n",
        "    jarak = np.zeros(X.shape[0])\n",
        "    for k in range(self.jumlah_kluster):\n",
        "      jarak[label == k] = norm(X[label == k] - centroid[k], axis=1)\n",
        "    return np.sum(np.square(jarak))\n",
        "\n",
        "  #Melakukan clustering data\n",
        "  def fit(self, X):\n",
        "    self.centroid = self.initialisasi_centroid(X)\n",
        "    for i in range(self.iterasi_maks):\n",
        "      centroid_lama = self.centroid\n",
        "      jarak = self.hitung_jarak(X, centroid_lama)\n",
        "      self.label = self.temukan_cluster_terdekat(jarak)\n",
        "      self.centroid = self.hitung_centroid(X, self.label)\n",
        "      if np.all(centroid_lama == self.centroid):\n",
        "        break\n",
        "    self.error = self.hitung_sse(X, self.label, self.centroid)\n",
        "\n",
        "  #Prediksi kluster data\n",
        "  def predict(self, X):\n",
        "     jarak = self.hitung_jarak(X, centroid_lama)\n",
        "     return self.temukan_cluster_terdekat(jarak)"
      ],
      "execution_count": 52,
      "outputs": []
    },
    {
      "cell_type": "markdown",
      "metadata": {
        "id": "ZZ4ymUplDetU"
      },
      "source": [
        "#Menampilkan Clustering K-Means"
      ]
    },
    {
      "cell_type": "code",
      "metadata": {
        "colab": {
          "base_uri": "https://localhost:8080/",
          "height": 404
        },
        "id": "sPzOpw8lDUcQ",
        "outputId": "6deb6287-31fa-441f-e8b5-295bac66918d"
      },
      "source": [
        "#Standarisasi data\n",
        "X_std = StandardScaler().fit_transform(df)\n",
        "\n",
        "#Menjalankan algoritma K-Means dengan jumlah cluster sebanyak 2 cluster\n",
        "km = kmeans(jumlah_kluster=2, iterasi_maks=100)\n",
        "km.fit(X_std)\n",
        "centroid = km.centroid\n",
        "\n",
        "#Plot hasil klasterisasi\n",
        "fig, ax = plt.subplots(figsize=(6,6))\n",
        "plt.scatter(X_std[km.label == 0,0], X_std[km.label == 0, 1],\n",
        "            c='green', label='Cluster 1')\n",
        "plt.scatter(X_std[km.label == 1, 0], X_std[km.label == 1,1],\n",
        "            c='orange', label='Cluster 2')\n",
        "plt.scatter(centroid[:, 0], centroid[:, 1], marker='*', s=300,\n",
        "            c='red', label='Centroid')\n",
        "plt.legend()\n",
        "plt.xlim([-2, 2])\n",
        "plt.ylim([-2, 2])\n",
        "plt.xlabel('Durasi Erupsi dalam Menit')\n",
        "plt.ylabel('Selang waktu ke Erupsi Selanjutnya')\n",
        "plt.title('Hasil Klasterisasi Data');\n",
        "ax.set_aspect('equal');"
      ],
      "execution_count": 58,
      "outputs": [
        {
          "output_type": "display_data",
          "data": {
            "image/png": "[encoded data removed]",
            "text/plain": [
              "<Figure size 432x432 with 1 Axes>"
            ]
          },
          "metadata": {
            "needs_background": "light"
          }
        }
      ]
    },
    {
      "cell_type": "markdown",
      "metadata": {
        "id": "pfSjYE_dGlAS"
      },
      "source": [
        "#Evaluasi"
      ]
    },
    {
      "cell_type": "markdown",
      "metadata": {
        "id": "_AqvXDA0GsGl"
      },
      "source": [
        "##Elbow Method"
      ]
    },
    {
      "cell_type": "code",
      "metadata": {
        "colab": {
          "base_uri": "https://localhost:8080/",
          "height": 388
        },
        "id": "Ejm2Zj-tHRwY",
        "outputId": "ca694bb4-d80a-4085-810c-f1a3f130ab24"
      },
      "source": [
        "# Jalankan algoritma K-Means dan peroleh indeks kluster data\n",
        "sse = []\n",
        "list_k = list(range(1, 10))\n",
        "\n",
        "for k in list_k:\n",
        "    km = kmeans(jumlah_kluster=k)\n",
        "    km.fit(X_std)\n",
        "    sse.append(km.error)\n",
        "\n",
        "# Plot SSE terhadap k\n",
        "plt.figure(figsize=(6, 6))\n",
        "plt.plot(list_k, sse, '-o')\n",
        "plt.xlabel(r'Jumlah kluster *k*')\n",
        "plt.ylabel('Sum of squared distance (SSE');"
      ],
      "execution_count": 60,
      "outputs": [
        {
          "output_type": "display_data",
          "data": {
            "image/png": "[encoded data removed]",
            "text/plain": [
              "<Figure size 432x432 with 1 Axes>"
            ]
          },
          "metadata": {
            "needs_background": "light"
          }
        }
      ]
    }
  ]
}